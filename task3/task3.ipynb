{
 "cells": [
  {
   "cell_type": "code",
   "execution_count": 2,
   "id": "22452640-3e4c-4dfb-92a9-147f54586b7c",
   "metadata": {},
   "outputs": [],
   "source": [
    "import tkinter as tk\n",
    "import math\n",
    "import time\n",
    "\n",
    "CANVAS_WIDTH = 400\n",
    "CANVAS_HEIGHT = 400\n",
    "\n",
    "root = tk.Tk()\n",
    "canvas = tk.Canvas(root, width=CANVAS_WIDTH, height=CANVAS_HEIGHT, bg='white')\n",
    "canvas.pack()\n",
    "\n",
    "def draw_line(x1, y1, x2, y2):\n",
    "    canvas.create_line(x1, CANVAS_HEIGHT - y1, x2, CANVAS_HEIGHT - y2, fill='black')\n",
    "\n",
    "def draw_branches(start_x, start_y, length, angle, depth):\n",
    "    if depth > 0:\n",
    "        end_x = start_x + length * math.cos(math.radians(angle))\n",
    "        end_y = start_y + length * math.sin(math.radians(angle))\n",
    "        \n",
    "        # Draw the branch\n",
    "        draw_line(start_x, start_y, end_x, end_y)\n",
    "        \n",
    "        draw_branches(end_x, end_y, length * 0.7, angle - 40, depth - 1)\n",
    "        draw_branches(end_x, end_y, length * 0.7, angle, depth - 1)\n",
    "        draw_branches(end_x, end_y, length * 0.7, angle + 40, depth - 1)\n",
    "\n",
    "start_x = CANVAS_WIDTH / 2\n",
    "start_y = 0\n",
    "\n",
    "initial_length = 80\n",
    "\n",
    "initial_depth = 4\n",
    "\n",
    "initial_angle = 90\n",
    "\n",
    "draw_branches(start_x, start_y, initial_length, initial_angle, initial_depth)\n",
    "\n",
    "root.mainloop()\n"
   ]
  }
 ],
 "metadata": {
  "kernelspec": {
   "display_name": "Python 3 (ipykernel)",
   "language": "python",
   "name": "python3"
  },
  "language_info": {
   "codemirror_mode": {
    "name": "ipython",
    "version": 3
   },
   "file_extension": ".py",
   "mimetype": "text/x-python",
   "name": "python",
   "nbconvert_exporter": "python",
   "pygments_lexer": "ipython3",
   "version": "3.11.5"
  }
 },
 "nbformat": 4,
 "nbformat_minor": 5
}
