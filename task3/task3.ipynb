{
 "cells": [
  {
   "cell_type": "code",
   "execution_count": 22,
   "id": "22452640-3e4c-4dfb-92a9-147f54586b7c",
   "metadata": {},
   "outputs": [],
   "source": [
    "import tkinter as tk\n",
    "import math\n",
    "import random\n",
    "\n",
    "class FractalTree:\n",
    "    def __init__(self, width, height):\n",
    "        self.root = tk.Tk()\n",
    "        self.canvas = tk.Canvas(self.root, width=width, height=height, bg='white')\n",
    "        self.canvas.pack()\n",
    "        self.width = width\n",
    "        self.height = height\n",
    "        self.angle_modifier = 0\n",
    "        self.max_depth = 6\n",
    "\n",
    "    def draw_line(self, x1, y1, x2, y2):\n",
    "        self.canvas.create_line(x1, self.height - y1, x2, self.height - y2, fill='black')\n",
    "\n",
    "    def draw_branches(self, start_x, start_y, length, angle, depth):\n",
    "        if depth > 0:\n",
    "            end_x = start_x + length * math.cos(math.radians(angle))\n",
    "            end_y = start_y + length * math.sin(math.radians(angle))\n",
    "            \n",
    "            self.draw_line(start_x, start_y, end_x, end_y)\n",
    "            \n",
    "            new_angle = angle + self.angle_modifier\n",
    "            self.draw_branches(end_x, end_y, length * 0.8, new_angle - 30, depth - 1)\n",
    "            self.draw_branches(end_x, end_y, length * 0.7, new_angle - 10, depth - 1)\n",
    "            self.draw_branches(end_x, end_y, length * 0.8, new_angle + 40, depth - 1)\n",
    "\n",
    "    def update_tree(self):\n",
    "        self.canvas.delete(\"all\")\n",
    "        start_x = self.width / 2\n",
    "        start_y = 0\n",
    "        initial_length = 80\n",
    "        initial_angle = 90\n",
    "        self.draw_branches(start_x, start_y, initial_length, initial_angle, self.max_depth)\n",
    "        \n",
    "        self.angle_modifier += random.choice([-3, 3])\n",
    "        self.angle_modifier = max(min(self.angle_modifier, 15), -15)\n",
    "\n",
    "        self.root.after(150, self.update_tree)\n",
    "\n",
    "    def run(self):\n",
    "        self.update_tree()\n",
    "        self.root.mainloop()\n",
    "\n",
    "fractal_tree = FractalTree(400, 400)\n",
    "fractal_tree.run()\n"
   ]
  }
 ],
 "metadata": {
  "kernelspec": {
   "display_name": "Python 3 (ipykernel)",
   "language": "python",
   "name": "python3"
  },
  "language_info": {
   "codemirror_mode": {
    "name": "ipython",
    "version": 3
   },
   "file_extension": ".py",
   "mimetype": "text/x-python",
   "name": "python",
   "nbconvert_exporter": "python",
   "pygments_lexer": "ipython3",
   "version": "3.11.5"
  }
 },
 "nbformat": 4,
 "nbformat_minor": 5
}
